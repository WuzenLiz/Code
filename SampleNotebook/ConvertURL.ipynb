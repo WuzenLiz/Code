{
 "cells": [
  {
   "cell_type": "code",
   "execution_count": 25,
   "metadata": {},
   "outputs": [],
   "source": [
    "\n",
    "\n",
    "import re, validators"
   ]
  },
  {
   "cell_type": "code",
   "execution_count": 26,
   "metadata": {},
   "outputs": [],
   "source": [
    "data = '<iframe width=\"660\" height=\"408\" src=\"//www.tynker.com/ide/v3?type=player&p=63abc88d4ce4b5560379984d&autoPlay=no\" frameborder=\"0\" allowfullscreen></iframe>'"
   ]
  },
  {
   "cell_type": "code",
   "execution_count": 27,
   "metadata": {},
   "outputs": [],
   "source": [
    "def convert_iframe(data):\n",
    "    # lấy src từ thẻ iframe\n",
    "    url = re.findall(r\"(?<=src=\\\").*?(?=[\\*\\\"])\", data)\n",
    "    if url and url[0] != '':\n",
    "        # loại bỏ thẻ html nếu có\n",
    "        url = re.sub(re.compile('<[^>]*>'), '', url[0])\n",
    "        if url.startswith('//'):\n",
    "            url = 'https:' + url\n",
    "        if url.startswith('www'):\n",
    "            url = 'https://' + url\n",
    "        if validators.url(url):\n",
    "            return '<iframe src=\"{}\"></iframe>'.format(url)\n",
    "        return None\n",
    "    return None\n"
   ]
  },
  {
   "cell_type": "code",
   "execution_count": 28,
   "metadata": {},
   "outputs": [
    {
     "name": "stdout",
     "output_type": "stream",
     "text": [
      "<iframe src=\"https://www.tynker.com/ide/v3?type=player&p=63abc88d4ce4b5560379984d&autoPlay=no\"></iframe>\n"
     ]
    }
   ],
   "source": [
    "print(convert_iframe(data))"
   ]
  }
 ],
 "metadata": {
  "kernelspec": {
   "display_name": "Python 3",
   "language": "python",
   "name": "python3"
  },
  "language_info": {
   "codemirror_mode": {
    "name": "ipython",
    "version": 3
   },
   "file_extension": ".py",
   "mimetype": "text/x-python",
   "name": "python",
   "nbconvert_exporter": "python",
   "pygments_lexer": "ipython3",
   "version": "3.11.2"
  },
  "orig_nbformat": 4
 },
 "nbformat": 4,
 "nbformat_minor": 2
}
